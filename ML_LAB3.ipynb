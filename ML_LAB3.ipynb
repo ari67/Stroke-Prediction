{
 "cells": [
  {
   "cell_type": "markdown",
   "id": "6dba29c6",
   "metadata": {},
   "source": [
    "# MACHINE LEARNING - LAB3"
   ]
  },
  {
   "cell_type": "markdown",
   "id": "0e4ac10b",
   "metadata": {},
   "source": [
    "### Reg no: 2248031"
   ]
  },
  {
   "cell_type": "markdown",
   "id": "155b0bca",
   "metadata": {},
   "source": [
    "### Name: Arya Anil"
   ]
  },
  {
   "cell_type": "markdown",
   "id": "f5716543",
   "metadata": {},
   "source": [
    "## 1. Problem Statement"
   ]
  },
  {
   "cell_type": "markdown",
   "id": "bb0967a0",
   "metadata": {},
   "source": [
    "In this case, we want to have a study around one of the critical disease “Stroke”. Stroke is a disease that affects the arteries leading to and within the brain. A stroke occurs when a blood vessel that carries oxygen and nutrients to the brain is either blocked by a clot or bursts (or ruptures). When that happens, part of the brain cannot get the blood (and oxygen) it needs, so it and brain cells die.\n",
    "\n",
    "Over the last few years, the Client has captured several health, demographic and lifestyle details about its patients. This includes details such as age and gender, along with several health parameters (e.g. hypertension, body mass index) and lifestyle related variables (e.g. smoking status, occupation type). The Client wants us to predict the probability of stroke happening to their patients. This will help doctors take proactive health measures for these patients."
   ]
  },
  {
   "cell_type": "markdown",
   "id": "42042cff",
   "metadata": {},
   "source": [
    "## 2. Aim"
   ]
  },
  {
   "cell_type": "markdown",
   "id": "0c0ce824",
   "metadata": {},
   "source": [
    "Here, we are trying to predict the occurence of stroke based on the patient's medical profile and lifestyle like : age, gender, work type, average glucose level, bmi, smoking status, marriage status etc. In order to achieve this, we are using two models: parametric one(logistic regression) and non-parametric one(KNN). Our aim to build a model which will give us the maximum accuracy."
   ]
  },
  {
   "cell_type": "markdown",
   "id": "37289759",
   "metadata": {},
   "source": [
    "## 3. Importing required libraries."
   ]
  },
  {
   "cell_type": "code",
   "execution_count": 1,
   "id": "5a0e929d",
   "metadata": {},
   "outputs": [],
   "source": [
    "import pandas as pd  \n",
    "import numpy as np  \n",
    "import seaborn as sns \n",
    "import matplotlib.pyplot as plt\n",
    "\n",
    "\n",
    "from sklearn.metrics import accuracy_score,precision_score,recall_score, confusion_matrix,f1_score\n",
    "from sklearn.preprocessing import MinMaxScaler \n",
    "from imblearn.over_sampling import SMOTE \n",
    "from sklearn.model_selection import train_test_split,cross_val_score,GridSearchCV \n",
    "\n",
    "from sklearn.linear_model import LogisticRegression\n",
    "from sklearn.neighbors import KNeighborsClassifier\n",
    "\n",
    "import warnings \n",
    "warnings.filterwarnings('ignore')"
   ]
  },
  {
   "cell_type": "markdown",
   "id": "fd6924cf",
   "metadata": {},
   "source": [
    "## 4. Data Preprocessing"
   ]
  },
  {
   "cell_type": "markdown",
   "id": "5ef3fb7b",
   "metadata": {},
   "source": [
    "### 4.1 Loading the Data "
   ]
  },
  {
   "cell_type": "code",
   "execution_count": 2,
   "id": "caa3c718",
   "metadata": {},
   "outputs": [
    {
     "name": "stdout",
     "output_type": "stream",
     "text": [
      "Shape Of The Dataset : (5110, 12)\n",
      "Dataset Information :\n",
      "\n",
      "<class 'pandas.core.frame.DataFrame'>\n",
      "RangeIndex: 5110 entries, 0 to 5109\n",
      "Data columns (total 12 columns):\n",
      " #   Column             Non-Null Count  Dtype  \n",
      "---  ------             --------------  -----  \n",
      " 0   id                 5110 non-null   int64  \n",
      " 1   gender             5110 non-null   object \n",
      " 2   age                5110 non-null   float64\n",
      " 3   hypertension       5110 non-null   int64  \n",
      " 4   heart_disease      5110 non-null   int64  \n",
      " 5   ever_married       5110 non-null   object \n",
      " 6   work_type          5110 non-null   object \n",
      " 7   Residence_type     5110 non-null   object \n",
      " 8   avg_glucose_level  5110 non-null   float64\n",
      " 9   bmi                4909 non-null   float64\n",
      " 10  smoking_status     5110 non-null   object \n",
      " 11  stroke             5110 non-null   int64  \n",
      "dtypes: float64(3), int64(4), object(5)\n",
      "memory usage: 479.2+ KB\n",
      "None\n",
      "\n",
      "Glimpse Of The Dataset :\n"
     ]
    },
    {
     "data": {
      "text/html": [
       "<div>\n",
       "<style scoped>\n",
       "    .dataframe tbody tr th:only-of-type {\n",
       "        vertical-align: middle;\n",
       "    }\n",
       "\n",
       "    .dataframe tbody tr th {\n",
       "        vertical-align: top;\n",
       "    }\n",
       "\n",
       "    .dataframe thead th {\n",
       "        text-align: right;\n",
       "    }\n",
       "</style>\n",
       "<table border=\"1\" class=\"dataframe\">\n",
       "  <thead>\n",
       "    <tr style=\"text-align: right;\">\n",
       "      <th></th>\n",
       "      <th>id</th>\n",
       "      <th>gender</th>\n",
       "      <th>age</th>\n",
       "      <th>hypertension</th>\n",
       "      <th>heart_disease</th>\n",
       "      <th>ever_married</th>\n",
       "      <th>work_type</th>\n",
       "      <th>Residence_type</th>\n",
       "      <th>avg_glucose_level</th>\n",
       "      <th>bmi</th>\n",
       "      <th>smoking_status</th>\n",
       "      <th>stroke</th>\n",
       "    </tr>\n",
       "  </thead>\n",
       "  <tbody>\n",
       "    <tr>\n",
       "      <th>0</th>\n",
       "      <td>9046</td>\n",
       "      <td>Male</td>\n",
       "      <td>67.0</td>\n",
       "      <td>0</td>\n",
       "      <td>1</td>\n",
       "      <td>Yes</td>\n",
       "      <td>Private</td>\n",
       "      <td>Urban</td>\n",
       "      <td>228.69</td>\n",
       "      <td>36.6</td>\n",
       "      <td>formerly smoked</td>\n",
       "      <td>1</td>\n",
       "    </tr>\n",
       "    <tr>\n",
       "      <th>1</th>\n",
       "      <td>51676</td>\n",
       "      <td>Female</td>\n",
       "      <td>61.0</td>\n",
       "      <td>0</td>\n",
       "      <td>0</td>\n",
       "      <td>Yes</td>\n",
       "      <td>Self-employed</td>\n",
       "      <td>Rural</td>\n",
       "      <td>202.21</td>\n",
       "      <td>NaN</td>\n",
       "      <td>never smoked</td>\n",
       "      <td>1</td>\n",
       "    </tr>\n",
       "    <tr>\n",
       "      <th>2</th>\n",
       "      <td>31112</td>\n",
       "      <td>Male</td>\n",
       "      <td>80.0</td>\n",
       "      <td>0</td>\n",
       "      <td>1</td>\n",
       "      <td>Yes</td>\n",
       "      <td>Private</td>\n",
       "      <td>Rural</td>\n",
       "      <td>105.92</td>\n",
       "      <td>32.5</td>\n",
       "      <td>never smoked</td>\n",
       "      <td>1</td>\n",
       "    </tr>\n",
       "    <tr>\n",
       "      <th>3</th>\n",
       "      <td>60182</td>\n",
       "      <td>Female</td>\n",
       "      <td>49.0</td>\n",
       "      <td>0</td>\n",
       "      <td>0</td>\n",
       "      <td>Yes</td>\n",
       "      <td>Private</td>\n",
       "      <td>Urban</td>\n",
       "      <td>171.23</td>\n",
       "      <td>34.4</td>\n",
       "      <td>smokes</td>\n",
       "      <td>1</td>\n",
       "    </tr>\n",
       "    <tr>\n",
       "      <th>4</th>\n",
       "      <td>1665</td>\n",
       "      <td>Female</td>\n",
       "      <td>79.0</td>\n",
       "      <td>1</td>\n",
       "      <td>0</td>\n",
       "      <td>Yes</td>\n",
       "      <td>Self-employed</td>\n",
       "      <td>Rural</td>\n",
       "      <td>174.12</td>\n",
       "      <td>24.0</td>\n",
       "      <td>never smoked</td>\n",
       "      <td>1</td>\n",
       "    </tr>\n",
       "    <tr>\n",
       "      <th>5</th>\n",
       "      <td>56669</td>\n",
       "      <td>Male</td>\n",
       "      <td>81.0</td>\n",
       "      <td>0</td>\n",
       "      <td>0</td>\n",
       "      <td>Yes</td>\n",
       "      <td>Private</td>\n",
       "      <td>Urban</td>\n",
       "      <td>186.21</td>\n",
       "      <td>29.0</td>\n",
       "      <td>formerly smoked</td>\n",
       "      <td>1</td>\n",
       "    </tr>\n",
       "    <tr>\n",
       "      <th>6</th>\n",
       "      <td>53882</td>\n",
       "      <td>Male</td>\n",
       "      <td>74.0</td>\n",
       "      <td>1</td>\n",
       "      <td>1</td>\n",
       "      <td>Yes</td>\n",
       "      <td>Private</td>\n",
       "      <td>Rural</td>\n",
       "      <td>70.09</td>\n",
       "      <td>27.4</td>\n",
       "      <td>never smoked</td>\n",
       "      <td>1</td>\n",
       "    </tr>\n",
       "    <tr>\n",
       "      <th>7</th>\n",
       "      <td>10434</td>\n",
       "      <td>Female</td>\n",
       "      <td>69.0</td>\n",
       "      <td>0</td>\n",
       "      <td>0</td>\n",
       "      <td>No</td>\n",
       "      <td>Private</td>\n",
       "      <td>Urban</td>\n",
       "      <td>94.39</td>\n",
       "      <td>22.8</td>\n",
       "      <td>never smoked</td>\n",
       "      <td>1</td>\n",
       "    </tr>\n",
       "    <tr>\n",
       "      <th>8</th>\n",
       "      <td>27419</td>\n",
       "      <td>Female</td>\n",
       "      <td>59.0</td>\n",
       "      <td>0</td>\n",
       "      <td>0</td>\n",
       "      <td>Yes</td>\n",
       "      <td>Private</td>\n",
       "      <td>Rural</td>\n",
       "      <td>76.15</td>\n",
       "      <td>NaN</td>\n",
       "      <td>Unknown</td>\n",
       "      <td>1</td>\n",
       "    </tr>\n",
       "    <tr>\n",
       "      <th>9</th>\n",
       "      <td>60491</td>\n",
       "      <td>Female</td>\n",
       "      <td>78.0</td>\n",
       "      <td>0</td>\n",
       "      <td>0</td>\n",
       "      <td>Yes</td>\n",
       "      <td>Private</td>\n",
       "      <td>Urban</td>\n",
       "      <td>58.57</td>\n",
       "      <td>24.2</td>\n",
       "      <td>Unknown</td>\n",
       "      <td>1</td>\n",
       "    </tr>\n",
       "  </tbody>\n",
       "</table>\n",
       "</div>"
      ],
      "text/plain": [
       "      id  gender   age  hypertension  heart_disease ever_married  \\\n",
       "0   9046    Male  67.0             0              1          Yes   \n",
       "1  51676  Female  61.0             0              0          Yes   \n",
       "2  31112    Male  80.0             0              1          Yes   \n",
       "3  60182  Female  49.0             0              0          Yes   \n",
       "4   1665  Female  79.0             1              0          Yes   \n",
       "5  56669    Male  81.0             0              0          Yes   \n",
       "6  53882    Male  74.0             1              1          Yes   \n",
       "7  10434  Female  69.0             0              0           No   \n",
       "8  27419  Female  59.0             0              0          Yes   \n",
       "9  60491  Female  78.0             0              0          Yes   \n",
       "\n",
       "       work_type Residence_type  avg_glucose_level   bmi   smoking_status  \\\n",
       "0        Private          Urban             228.69  36.6  formerly smoked   \n",
       "1  Self-employed          Rural             202.21   NaN     never smoked   \n",
       "2        Private          Rural             105.92  32.5     never smoked   \n",
       "3        Private          Urban             171.23  34.4           smokes   \n",
       "4  Self-employed          Rural             174.12  24.0     never smoked   \n",
       "5        Private          Urban             186.21  29.0  formerly smoked   \n",
       "6        Private          Rural              70.09  27.4     never smoked   \n",
       "7        Private          Urban              94.39  22.8     never smoked   \n",
       "8        Private          Rural              76.15   NaN          Unknown   \n",
       "9        Private          Urban              58.57  24.2          Unknown   \n",
       "\n",
       "   stroke  \n",
       "0       1  \n",
       "1       1  \n",
       "2       1  \n",
       "3       1  \n",
       "4       1  \n",
       "5       1  \n",
       "6       1  \n",
       "7       1  \n",
       "8       1  \n",
       "9       1  "
      ]
     },
     "execution_count": 2,
     "metadata": {},
     "output_type": "execute_result"
    }
   ],
   "source": [
    "data = pd.read_csv(\"C:\\\\Users\\\\hp\\\\Downloads\\\\healthcare-dataset-stroke-data.csv\")\n",
    "print(f\"Shape Of The Dataset : {data.shape}\")\n",
    "print(f\"Dataset Information :\\n\")\n",
    "print(data.info())\n",
    "\n",
    "print(f\"\\nGlimpse Of The Dataset :\")\n",
    "data.head(10)"
   ]
  },
  {
   "cell_type": "markdown",
   "id": "43219a62",
   "metadata": {},
   "source": [
    "### 4.2 Data Description"
   ]
  },
  {
   "cell_type": "code",
   "execution_count": 3,
   "id": "51edb7c1",
   "metadata": {},
   "outputs": [
    {
     "name": "stdout",
     "output_type": "stream",
     "text": [
      "\n",
      "Description of Data (numerical data typed features only) :\n"
     ]
    },
    {
     "data": {
      "text/html": [
       "<div>\n",
       "<style scoped>\n",
       "    .dataframe tbody tr th:only-of-type {\n",
       "        vertical-align: middle;\n",
       "    }\n",
       "\n",
       "    .dataframe tbody tr th {\n",
       "        vertical-align: top;\n",
       "    }\n",
       "\n",
       "    .dataframe thead th {\n",
       "        text-align: right;\n",
       "    }\n",
       "</style>\n",
       "<table border=\"1\" class=\"dataframe\">\n",
       "  <thead>\n",
       "    <tr style=\"text-align: right;\">\n",
       "      <th></th>\n",
       "      <th>id</th>\n",
       "      <th>age</th>\n",
       "      <th>hypertension</th>\n",
       "      <th>heart_disease</th>\n",
       "      <th>avg_glucose_level</th>\n",
       "      <th>bmi</th>\n",
       "      <th>stroke</th>\n",
       "    </tr>\n",
       "  </thead>\n",
       "  <tbody>\n",
       "    <tr>\n",
       "      <th>count</th>\n",
       "      <td>5110.000000</td>\n",
       "      <td>5110.000000</td>\n",
       "      <td>5110.000000</td>\n",
       "      <td>5110.000000</td>\n",
       "      <td>5110.000000</td>\n",
       "      <td>4909.000000</td>\n",
       "      <td>5110.000000</td>\n",
       "    </tr>\n",
       "    <tr>\n",
       "      <th>mean</th>\n",
       "      <td>36517.829354</td>\n",
       "      <td>43.226614</td>\n",
       "      <td>0.097456</td>\n",
       "      <td>0.054012</td>\n",
       "      <td>106.147677</td>\n",
       "      <td>28.893237</td>\n",
       "      <td>0.048728</td>\n",
       "    </tr>\n",
       "    <tr>\n",
       "      <th>std</th>\n",
       "      <td>21161.721625</td>\n",
       "      <td>22.612647</td>\n",
       "      <td>0.296607</td>\n",
       "      <td>0.226063</td>\n",
       "      <td>45.283560</td>\n",
       "      <td>7.854067</td>\n",
       "      <td>0.215320</td>\n",
       "    </tr>\n",
       "    <tr>\n",
       "      <th>min</th>\n",
       "      <td>67.000000</td>\n",
       "      <td>0.080000</td>\n",
       "      <td>0.000000</td>\n",
       "      <td>0.000000</td>\n",
       "      <td>55.120000</td>\n",
       "      <td>10.300000</td>\n",
       "      <td>0.000000</td>\n",
       "    </tr>\n",
       "    <tr>\n",
       "      <th>25%</th>\n",
       "      <td>17741.250000</td>\n",
       "      <td>25.000000</td>\n",
       "      <td>0.000000</td>\n",
       "      <td>0.000000</td>\n",
       "      <td>77.245000</td>\n",
       "      <td>23.500000</td>\n",
       "      <td>0.000000</td>\n",
       "    </tr>\n",
       "    <tr>\n",
       "      <th>50%</th>\n",
       "      <td>36932.000000</td>\n",
       "      <td>45.000000</td>\n",
       "      <td>0.000000</td>\n",
       "      <td>0.000000</td>\n",
       "      <td>91.885000</td>\n",
       "      <td>28.100000</td>\n",
       "      <td>0.000000</td>\n",
       "    </tr>\n",
       "    <tr>\n",
       "      <th>75%</th>\n",
       "      <td>54682.000000</td>\n",
       "      <td>61.000000</td>\n",
       "      <td>0.000000</td>\n",
       "      <td>0.000000</td>\n",
       "      <td>114.090000</td>\n",
       "      <td>33.100000</td>\n",
       "      <td>0.000000</td>\n",
       "    </tr>\n",
       "    <tr>\n",
       "      <th>max</th>\n",
       "      <td>72940.000000</td>\n",
       "      <td>82.000000</td>\n",
       "      <td>1.000000</td>\n",
       "      <td>1.000000</td>\n",
       "      <td>271.740000</td>\n",
       "      <td>97.600000</td>\n",
       "      <td>1.000000</td>\n",
       "    </tr>\n",
       "  </tbody>\n",
       "</table>\n",
       "</div>"
      ],
      "text/plain": [
       "                 id          age  hypertension  heart_disease  \\\n",
       "count   5110.000000  5110.000000   5110.000000    5110.000000   \n",
       "mean   36517.829354    43.226614      0.097456       0.054012   \n",
       "std    21161.721625    22.612647      0.296607       0.226063   \n",
       "min       67.000000     0.080000      0.000000       0.000000   \n",
       "25%    17741.250000    25.000000      0.000000       0.000000   \n",
       "50%    36932.000000    45.000000      0.000000       0.000000   \n",
       "75%    54682.000000    61.000000      0.000000       0.000000   \n",
       "max    72940.000000    82.000000      1.000000       1.000000   \n",
       "\n",
       "       avg_glucose_level          bmi       stroke  \n",
       "count        5110.000000  4909.000000  5110.000000  \n",
       "mean          106.147677    28.893237     0.048728  \n",
       "std            45.283560     7.854067     0.215320  \n",
       "min            55.120000    10.300000     0.000000  \n",
       "25%            77.245000    23.500000     0.000000  \n",
       "50%            91.885000    28.100000     0.000000  \n",
       "75%           114.090000    33.100000     0.000000  \n",
       "max           271.740000    97.600000     1.000000  "
      ]
     },
     "execution_count": 3,
     "metadata": {},
     "output_type": "execute_result"
    }
   ],
   "source": [
    "# NUMERICAL ATTRIBUTES:\n",
    "\n",
    "print(f\"\\nDescription of Data (numerical data typed features only) :\")\n",
    "data.describe()"
   ]
  },
  {
   "cell_type": "code",
   "execution_count": 3,
   "id": "9c5c83d2",
   "metadata": {},
   "outputs": [
    {
     "name": "stdout",
     "output_type": "stream",
     "text": [
      "\n",
      "Description of Data (categorical data typed features) :\n"
     ]
    },
    {
     "data": {
      "text/html": [
       "<div>\n",
       "<style scoped>\n",
       "    .dataframe tbody tr th:only-of-type {\n",
       "        vertical-align: middle;\n",
       "    }\n",
       "\n",
       "    .dataframe tbody tr th {\n",
       "        vertical-align: top;\n",
       "    }\n",
       "\n",
       "    .dataframe thead th {\n",
       "        text-align: right;\n",
       "    }\n",
       "</style>\n",
       "<table border=\"1\" class=\"dataframe\">\n",
       "  <thead>\n",
       "    <tr style=\"text-align: right;\">\n",
       "      <th></th>\n",
       "      <th>gender</th>\n",
       "      <th>ever_married</th>\n",
       "      <th>work_type</th>\n",
       "      <th>Residence_type</th>\n",
       "      <th>smoking_status</th>\n",
       "    </tr>\n",
       "  </thead>\n",
       "  <tbody>\n",
       "    <tr>\n",
       "      <th>count</th>\n",
       "      <td>5110</td>\n",
       "      <td>5110</td>\n",
       "      <td>5110</td>\n",
       "      <td>5110</td>\n",
       "      <td>5110</td>\n",
       "    </tr>\n",
       "    <tr>\n",
       "      <th>unique</th>\n",
       "      <td>3</td>\n",
       "      <td>2</td>\n",
       "      <td>5</td>\n",
       "      <td>2</td>\n",
       "      <td>4</td>\n",
       "    </tr>\n",
       "    <tr>\n",
       "      <th>top</th>\n",
       "      <td>Female</td>\n",
       "      <td>Yes</td>\n",
       "      <td>Private</td>\n",
       "      <td>Urban</td>\n",
       "      <td>never smoked</td>\n",
       "    </tr>\n",
       "    <tr>\n",
       "      <th>freq</th>\n",
       "      <td>2994</td>\n",
       "      <td>3353</td>\n",
       "      <td>2925</td>\n",
       "      <td>2596</td>\n",
       "      <td>1892</td>\n",
       "    </tr>\n",
       "  </tbody>\n",
       "</table>\n",
       "</div>"
      ],
      "text/plain": [
       "        gender ever_married work_type Residence_type smoking_status\n",
       "count     5110         5110      5110           5110           5110\n",
       "unique       3            2         5              2              4\n",
       "top     Female          Yes   Private          Urban   never smoked\n",
       "freq      2994         3353      2925           2596           1892"
      ]
     },
     "execution_count": 3,
     "metadata": {},
     "output_type": "execute_result"
    }
   ],
   "source": [
    "# CATEGORICAL ATTRIBUTES\n",
    "\n",
    "print(f\"\\nDescription of Data (categorical data typed features) :\")\n",
    "data.describe(include=object)"
   ]
  },
  {
   "cell_type": "markdown",
   "id": "7c44dbe3",
   "metadata": {},
   "source": [
    "### 4.3 Handling missing data."
   ]
  },
  {
   "cell_type": "code",
   "execution_count": 4,
   "id": "35bc8788",
   "metadata": {},
   "outputs": [
    {
     "name": "stdout",
     "output_type": "stream",
     "text": [
      "After imputing Null values of the Dataset :\n"
     ]
    },
    {
     "data": {
      "text/html": [
       "<div>\n",
       "<style scoped>\n",
       "    .dataframe tbody tr th:only-of-type {\n",
       "        vertical-align: middle;\n",
       "    }\n",
       "\n",
       "    .dataframe tbody tr th {\n",
       "        vertical-align: top;\n",
       "    }\n",
       "\n",
       "    .dataframe thead th {\n",
       "        text-align: right;\n",
       "    }\n",
       "</style>\n",
       "<table border=\"1\" class=\"dataframe\">\n",
       "  <thead>\n",
       "    <tr style=\"text-align: right;\">\n",
       "      <th></th>\n",
       "      <th>0</th>\n",
       "    </tr>\n",
       "  </thead>\n",
       "  <tbody>\n",
       "    <tr>\n",
       "      <th>id</th>\n",
       "      <td>0</td>\n",
       "    </tr>\n",
       "    <tr>\n",
       "      <th>gender</th>\n",
       "      <td>0</td>\n",
       "    </tr>\n",
       "    <tr>\n",
       "      <th>age</th>\n",
       "      <td>0</td>\n",
       "    </tr>\n",
       "    <tr>\n",
       "      <th>hypertension</th>\n",
       "      <td>0</td>\n",
       "    </tr>\n",
       "    <tr>\n",
       "      <th>heart_disease</th>\n",
       "      <td>0</td>\n",
       "    </tr>\n",
       "    <tr>\n",
       "      <th>ever_married</th>\n",
       "      <td>0</td>\n",
       "    </tr>\n",
       "    <tr>\n",
       "      <th>work_type</th>\n",
       "      <td>0</td>\n",
       "    </tr>\n",
       "    <tr>\n",
       "      <th>Residence_type</th>\n",
       "      <td>0</td>\n",
       "    </tr>\n",
       "    <tr>\n",
       "      <th>avg_glucose_level</th>\n",
       "      <td>0</td>\n",
       "    </tr>\n",
       "    <tr>\n",
       "      <th>bmi</th>\n",
       "      <td>0</td>\n",
       "    </tr>\n",
       "    <tr>\n",
       "      <th>smoking_status</th>\n",
       "      <td>0</td>\n",
       "    </tr>\n",
       "    <tr>\n",
       "      <th>stroke</th>\n",
       "      <td>0</td>\n",
       "    </tr>\n",
       "  </tbody>\n",
       "</table>\n",
       "</div>"
      ],
      "text/plain": [
       "                   0\n",
       "id                 0\n",
       "gender             0\n",
       "age                0\n",
       "hypertension       0\n",
       "heart_disease      0\n",
       "ever_married       0\n",
       "work_type          0\n",
       "Residence_type     0\n",
       "avg_glucose_level  0\n",
       "bmi                0\n",
       "smoking_status     0\n",
       "stroke             0"
      ]
     },
     "execution_count": 4,
     "metadata": {},
     "output_type": "execute_result"
    }
   ],
   "source": [
    "#Imputing Missing/NA Values in dataset using Attribute Mean/Median\n",
    "\n",
    "data['bmi'].fillna(np.round(data['bmi'].median(), 1), inplace = True) ##replaced NA values in BMI attr with Median\n",
    "\n",
    "#Printing top 5 rows to check consistency of data\n",
    "\n",
    "data.head(5)\n",
    "print(f\"After imputing Null values of the Dataset :\")\n",
    "data.isna().sum().to_frame()"
   ]
  },
  {
   "cell_type": "markdown",
   "id": "f483b68d",
   "metadata": {},
   "source": [
    "### 4.4 Dropping Unnecessary columns. "
   ]
  },
  {
   "cell_type": "code",
   "execution_count": 5,
   "id": "a3a2f923",
   "metadata": {},
   "outputs": [],
   "source": [
    "data.drop([\"id\"], axis=1, inplace=True)"
   ]
  },
  {
   "cell_type": "markdown",
   "id": "780ea786",
   "metadata": {},
   "source": [
    "### 4.5 Normalizing numerical Data. "
   ]
  },
  {
   "cell_type": "code",
   "execution_count": 6,
   "id": "c1b9ba09",
   "metadata": {},
   "outputs": [
    {
     "data": {
      "image/png": "[encoded data removed]",
      "text/plain": [
       "<Figure size 1368x432 with 3 Axes>"
      ]
     },
     "metadata": {
      "needs_background": "light"
     },
     "output_type": "display_data"
    }
   ],
   "source": [
    "f,ax=plt.subplots(1,3,figsize=(19,6),constrained_layout = True, squeeze=False)\n",
    "sns.distplot(data[\"age\"],bins=20,ax=ax[0,0],color='orange');\n",
    "\n",
    "sns.distplot(data[\"avg_glucose_level\"],bins=20,ax=ax[0,1],color='black');\n",
    "\n",
    "sns.distplot(data[\"bmi\"],bins=20,ax=ax[0,2],color='red');"
   ]
  },
  {
   "cell_type": "markdown",
   "id": "378400b4",
   "metadata": {},
   "source": [
    "Since the distribution is not normal, we need to normalize the data."
   ]
  },
  {
   "cell_type": "code",
   "execution_count": 7,
   "id": "aae80861",
   "metadata": {},
   "outputs": [
    {
     "data": {
      "text/html": [
       "<div>\n",
       "<style scoped>\n",
       "    .dataframe tbody tr th:only-of-type {\n",
       "        vertical-align: middle;\n",
       "    }\n",
       "\n",
       "    .dataframe tbody tr th {\n",
       "        vertical-align: top;\n",
       "    }\n",
       "\n",
       "    .dataframe thead th {\n",
       "        text-align: right;\n",
       "    }\n",
       "</style>\n",
       "<table border=\"1\" class=\"dataframe\">\n",
       "  <thead>\n",
       "    <tr style=\"text-align: right;\">\n",
       "      <th></th>\n",
       "      <th>gender</th>\n",
       "      <th>age</th>\n",
       "      <th>hypertension</th>\n",
       "      <th>heart_disease</th>\n",
       "      <th>ever_married</th>\n",
       "      <th>work_type</th>\n",
       "      <th>Residence_type</th>\n",
       "      <th>avg_glucose_level</th>\n",
       "      <th>bmi</th>\n",
       "      <th>smoking_status</th>\n",
       "      <th>stroke</th>\n",
       "    </tr>\n",
       "  </thead>\n",
       "  <tbody>\n",
       "    <tr>\n",
       "      <th>0</th>\n",
       "      <td>Male</td>\n",
       "      <td>0.816895</td>\n",
       "      <td>0</td>\n",
       "      <td>1</td>\n",
       "      <td>Yes</td>\n",
       "      <td>Private</td>\n",
       "      <td>Urban</td>\n",
       "      <td>0.801265</td>\n",
       "      <td>0.301260</td>\n",
       "      <td>formerly smoked</td>\n",
       "      <td>1</td>\n",
       "    </tr>\n",
       "    <tr>\n",
       "      <th>1</th>\n",
       "      <td>Female</td>\n",
       "      <td>0.743652</td>\n",
       "      <td>0</td>\n",
       "      <td>0</td>\n",
       "      <td>Yes</td>\n",
       "      <td>Self-employed</td>\n",
       "      <td>Rural</td>\n",
       "      <td>0.679023</td>\n",
       "      <td>0.203895</td>\n",
       "      <td>never smoked</td>\n",
       "      <td>1</td>\n",
       "    </tr>\n",
       "    <tr>\n",
       "      <th>2</th>\n",
       "      <td>Male</td>\n",
       "      <td>0.975586</td>\n",
       "      <td>0</td>\n",
       "      <td>1</td>\n",
       "      <td>Yes</td>\n",
       "      <td>Private</td>\n",
       "      <td>Rural</td>\n",
       "      <td>0.234512</td>\n",
       "      <td>0.254296</td>\n",
       "      <td>never smoked</td>\n",
       "      <td>1</td>\n",
       "    </tr>\n",
       "    <tr>\n",
       "      <th>3</th>\n",
       "      <td>Female</td>\n",
       "      <td>0.597168</td>\n",
       "      <td>0</td>\n",
       "      <td>0</td>\n",
       "      <td>Yes</td>\n",
       "      <td>Private</td>\n",
       "      <td>Urban</td>\n",
       "      <td>0.536008</td>\n",
       "      <td>0.276060</td>\n",
       "      <td>smokes</td>\n",
       "      <td>1</td>\n",
       "    </tr>\n",
       "    <tr>\n",
       "      <th>4</th>\n",
       "      <td>Female</td>\n",
       "      <td>0.963379</td>\n",
       "      <td>1</td>\n",
       "      <td>0</td>\n",
       "      <td>Yes</td>\n",
       "      <td>Self-employed</td>\n",
       "      <td>Rural</td>\n",
       "      <td>0.549349</td>\n",
       "      <td>0.156930</td>\n",
       "      <td>never smoked</td>\n",
       "      <td>1</td>\n",
       "    </tr>\n",
       "  </tbody>\n",
       "</table>\n",
       "</div>"
      ],
      "text/plain": [
       "   gender       age  hypertension  heart_disease ever_married      work_type  \\\n",
       "0    Male  0.816895             0              1          Yes        Private   \n",
       "1  Female  0.743652             0              0          Yes  Self-employed   \n",
       "2    Male  0.975586             0              1          Yes        Private   \n",
       "3  Female  0.597168             0              0          Yes        Private   \n",
       "4  Female  0.963379             1              0          Yes  Self-employed   \n",
       "\n",
       "  Residence_type  avg_glucose_level       bmi   smoking_status  stroke  \n",
       "0          Urban           0.801265  0.301260  formerly smoked       1  \n",
       "1          Rural           0.679023  0.203895     never smoked       1  \n",
       "2          Rural           0.234512  0.254296     never smoked       1  \n",
       "3          Urban           0.536008  0.276060           smokes       1  \n",
       "4          Rural           0.549349  0.156930     never smoked       1  "
      ]
     },
     "execution_count": 7,
     "metadata": {},
     "output_type": "execute_result"
    }
   ],
   "source": [
    "transformer = MinMaxScaler()\n",
    "def scaling(columns):\n",
    "    return transformer.fit_transform(data[columns].values.reshape(-1,1))\n",
    "\n",
    "columns_to_be_scaled = ['age','bmi','avg_glucose_level']\n",
    "for i in columns_to_be_scaled:\n",
    "    data[i] = scaling(i)\n",
    "    \n",
    "data.head()"
   ]
  },
  {
   "cell_type": "markdown",
   "id": "88ef8c8a",
   "metadata": {},
   "source": [
    "### 4.6 One Hot Encoding"
   ]
  },
  {
   "cell_type": "markdown",
   "id": "9cfe7b3c",
   "metadata": {},
   "source": [
    "Transforming categorical features into dummy variables as 0 and 1 to be able to use them in classification models."
   ]
  },
  {
   "cell_type": "code",
   "execution_count": 8,
   "id": "0c520482",
   "metadata": {},
   "outputs": [
    {
     "data": {
      "text/html": [
       "<div>\n",
       "<style scoped>\n",
       "    .dataframe tbody tr th:only-of-type {\n",
       "        vertical-align: middle;\n",
       "    }\n",
       "\n",
       "    .dataframe tbody tr th {\n",
       "        vertical-align: top;\n",
       "    }\n",
       "\n",
       "    .dataframe thead th {\n",
       "        text-align: right;\n",
       "    }\n",
       "</style>\n",
       "<table border=\"1\" class=\"dataframe\">\n",
       "  <thead>\n",
       "    <tr style=\"text-align: right;\">\n",
       "      <th></th>\n",
       "      <th>age</th>\n",
       "      <th>avg_glucose_level</th>\n",
       "      <th>bmi</th>\n",
       "      <th>stroke</th>\n",
       "      <th>Gender_is_Male</th>\n",
       "      <th>Gender_is_Other</th>\n",
       "      <th>Residence_type_is_Urban</th>\n",
       "      <th>heart_disease_is_1</th>\n",
       "      <th>hypertension_is_1</th>\n",
       "      <th>ever_married_is_Yes</th>\n",
       "      <th>smoking_status_is_Unknown</th>\n",
       "      <th>smoking_status_is_formerly smoked</th>\n",
       "      <th>smoking_status_is_never smoked</th>\n",
       "      <th>smoking_status_is_smokes</th>\n",
       "      <th>work_type_is_Govt_job</th>\n",
       "      <th>work_type_is_Never_worked</th>\n",
       "      <th>work_type_is_Private</th>\n",
       "      <th>work_type_is_Self-employed</th>\n",
       "      <th>work_type_is_children</th>\n",
       "    </tr>\n",
       "  </thead>\n",
       "  <tbody>\n",
       "    <tr>\n",
       "      <th>0</th>\n",
       "      <td>0.816895</td>\n",
       "      <td>0.801265</td>\n",
       "      <td>0.301260</td>\n",
       "      <td>1</td>\n",
       "      <td>1</td>\n",
       "      <td>0</td>\n",
       "      <td>1</td>\n",
       "      <td>1</td>\n",
       "      <td>0</td>\n",
       "      <td>1</td>\n",
       "      <td>0</td>\n",
       "      <td>1</td>\n",
       "      <td>0</td>\n",
       "      <td>0</td>\n",
       "      <td>0</td>\n",
       "      <td>0</td>\n",
       "      <td>1</td>\n",
       "      <td>0</td>\n",
       "      <td>0</td>\n",
       "    </tr>\n",
       "    <tr>\n",
       "      <th>1</th>\n",
       "      <td>0.743652</td>\n",
       "      <td>0.679023</td>\n",
       "      <td>0.203895</td>\n",
       "      <td>1</td>\n",
       "      <td>0</td>\n",
       "      <td>0</td>\n",
       "      <td>0</td>\n",
       "      <td>0</td>\n",
       "      <td>0</td>\n",
       "      <td>1</td>\n",
       "      <td>0</td>\n",
       "      <td>0</td>\n",
       "      <td>1</td>\n",
       "      <td>0</td>\n",
       "      <td>0</td>\n",
       "      <td>0</td>\n",
       "      <td>0</td>\n",
       "      <td>1</td>\n",
       "      <td>0</td>\n",
       "    </tr>\n",
       "    <tr>\n",
       "      <th>2</th>\n",
       "      <td>0.975586</td>\n",
       "      <td>0.234512</td>\n",
       "      <td>0.254296</td>\n",
       "      <td>1</td>\n",
       "      <td>1</td>\n",
       "      <td>0</td>\n",
       "      <td>0</td>\n",
       "      <td>1</td>\n",
       "      <td>0</td>\n",
       "      <td>1</td>\n",
       "      <td>0</td>\n",
       "      <td>0</td>\n",
       "      <td>1</td>\n",
       "      <td>0</td>\n",
       "      <td>0</td>\n",
       "      <td>0</td>\n",
       "      <td>1</td>\n",
       "      <td>0</td>\n",
       "      <td>0</td>\n",
       "    </tr>\n",
       "    <tr>\n",
       "      <th>3</th>\n",
       "      <td>0.597168</td>\n",
       "      <td>0.536008</td>\n",
       "      <td>0.276060</td>\n",
       "      <td>1</td>\n",
       "      <td>0</td>\n",
       "      <td>0</td>\n",
       "      <td>1</td>\n",
       "      <td>0</td>\n",
       "      <td>0</td>\n",
       "      <td>1</td>\n",
       "      <td>0</td>\n",
       "      <td>0</td>\n",
       "      <td>0</td>\n",
       "      <td>1</td>\n",
       "      <td>0</td>\n",
       "      <td>0</td>\n",
       "      <td>1</td>\n",
       "      <td>0</td>\n",
       "      <td>0</td>\n",
       "    </tr>\n",
       "    <tr>\n",
       "      <th>4</th>\n",
       "      <td>0.963379</td>\n",
       "      <td>0.549349</td>\n",
       "      <td>0.156930</td>\n",
       "      <td>1</td>\n",
       "      <td>0</td>\n",
       "      <td>0</td>\n",
       "      <td>0</td>\n",
       "      <td>0</td>\n",
       "      <td>1</td>\n",
       "      <td>1</td>\n",
       "      <td>0</td>\n",
       "      <td>0</td>\n",
       "      <td>1</td>\n",
       "      <td>0</td>\n",
       "      <td>0</td>\n",
       "      <td>0</td>\n",
       "      <td>0</td>\n",
       "      <td>1</td>\n",
       "      <td>0</td>\n",
       "    </tr>\n",
       "  </tbody>\n",
       "</table>\n",
       "</div>"
      ],
      "text/plain": [
       "        age  avg_glucose_level       bmi  stroke  Gender_is_Male  \\\n",
       "0  0.816895           0.801265  0.301260       1               1   \n",
       "1  0.743652           0.679023  0.203895       1               0   \n",
       "2  0.975586           0.234512  0.254296       1               1   \n",
       "3  0.597168           0.536008  0.276060       1               0   \n",
       "4  0.963379           0.549349  0.156930       1               0   \n",
       "\n",
       "   Gender_is_Other  Residence_type_is_Urban  heart_disease_is_1  \\\n",
       "0                0                        1                   1   \n",
       "1                0                        0                   0   \n",
       "2                0                        0                   1   \n",
       "3                0                        1                   0   \n",
       "4                0                        0                   0   \n",
       "\n",
       "   hypertension_is_1  ever_married_is_Yes  smoking_status_is_Unknown  \\\n",
       "0                  0                    1                          0   \n",
       "1                  0                    1                          0   \n",
       "2                  0                    1                          0   \n",
       "3                  0                    1                          0   \n",
       "4                  1                    1                          0   \n",
       "\n",
       "   smoking_status_is_formerly smoked  smoking_status_is_never smoked  \\\n",
       "0                                  1                               0   \n",
       "1                                  0                               1   \n",
       "2                                  0                               1   \n",
       "3                                  0                               0   \n",
       "4                                  0                               1   \n",
       "\n",
       "   smoking_status_is_smokes  work_type_is_Govt_job  work_type_is_Never_worked  \\\n",
       "0                         0                      0                          0   \n",
       "1                         0                      0                          0   \n",
       "2                         0                      0                          0   \n",
       "3                         1                      0                          0   \n",
       "4                         0                      0                          0   \n",
       "\n",
       "   work_type_is_Private  work_type_is_Self-employed  work_type_is_children  \n",
       "0                     1                           0                      0  \n",
       "1                     0                           1                      0  \n",
       "2                     1                           0                      0  \n",
       "3                     1                           0                      0  \n",
       "4                     0                           1                      0  "
      ]
     },
     "execution_count": 8,
     "metadata": {},
     "output_type": "execute_result"
    }
   ],
   "source": [
    "dummy_df_gender = pd.get_dummies(data[\"gender\"],dtype=np.int64,prefix=\"Gender_is\",drop_first=True)\n",
    "dummy_df_rt = pd.get_dummies(data[\"Residence_type\"],dtype=np.int64,prefix=\"Residence_type_is\",drop_first=True)\n",
    "dummy_df_hd = pd.get_dummies(data[\"heart_disease\"],dtype=np.int64,prefix=\"heart_disease_is\",drop_first=True)\n",
    "dummy_df_hyp = pd.get_dummies(data[\"hypertension\"],dtype=np.int64,prefix=\"hypertension_is\",drop_first=True)\n",
    "dummy_df_married = pd.get_dummies(data[\"ever_married\"],dtype=np.int64,prefix=\"ever_married_is\",drop_first=True)\n",
    "dummy_df_smoke = pd.get_dummies(data[\"smoking_status\"],dtype=np.int64,prefix=\"smoking_status_is\")\n",
    "dummy_df_worktype = pd.get_dummies(data[\"work_type\"],dtype=np.int64,prefix=\"work_type_is\")\n",
    "\n",
    "data = pd.concat([data,dummy_df_gender,dummy_df_rt,dummy_df_hd,dummy_df_hyp,\n",
    "                dummy_df_married,dummy_df_smoke,dummy_df_worktype],axis=1)\n",
    "data = data.loc[:,~data.columns.duplicated()]\n",
    "data = data.drop(['gender','hypertension','heart_disease','ever_married','Residence_type','smoking_status','work_type'],axis=1)\n",
    "\n",
    "data.head()"
   ]
  },
  {
   "cell_type": "markdown",
   "id": "6eaa11e6",
   "metadata": {},
   "source": [
    "## 5. Data Modelling"
   ]
  },
  {
   "cell_type": "markdown",
   "id": "06cfe718",
   "metadata": {},
   "source": [
    "### 5.1 Splitting into train test "
   ]
  },
  {
   "cell_type": "code",
   "execution_count": 9,
   "id": "33cfaa60",
   "metadata": {},
   "outputs": [],
   "source": [
    "X=data.drop(['stroke'],axis=1)\n",
    "y=data['stroke']\n",
    "\n",
    "X_train,X_test,y_train,y_test = train_test_split(X,y,test_size=0.25,random_state=123)"
   ]
  },
  {
   "cell_type": "markdown",
   "id": "3a659810",
   "metadata": {},
   "source": [
    "### 5.2 Balancing the dataset using SMOTE"
   ]
  },
  {
   "cell_type": "code",
   "execution_count": 11,
   "id": "0b707ce5",
   "metadata": {},
   "outputs": [
    {
     "data": {
      "image/png": "[encoded data removed]",
      "text/plain": [
       "<Figure size 432x288 with 1 Axes>"
      ]
     },
     "metadata": {
      "needs_background": "light"
     },
     "output_type": "display_data"
    }
   ],
   "source": [
    "#BEFORE SMOTE:\n",
    "\n",
    "sns.countplot(data = data, x='stroke');"
   ]
  },
  {
   "cell_type": "code",
   "execution_count": 10,
   "id": "ec9e268d",
   "metadata": {},
   "outputs": [
    {
     "name": "stdout",
     "output_type": "stream",
     "text": [
      "Before OverSampling, the shape of X_train: (3832, 18)\n",
      "Before OverSampling, the shape of y_train: (3832,)\n",
      "After OverSampling, the shape of X_train_over: (7282, 18)\n",
      "After OverSampling, the shape of y_train_over: (7282,)\n"
     ]
    }
   ],
   "source": [
    "sm = SMOTE(k_neighbors=5, random_state=123)\n",
    "X_train_over, y_train_over = sm.fit_resample(X_train, y_train)\n",
    "print('Before OverSampling, the shape of X_train: {}'.format(X_train.shape))\n",
    "print('Before OverSampling, the shape of y_train: {}'.format(y_train.shape)) \n",
    "print('After OverSampling, the shape of X_train_over: {}'.format(X_train_over.shape))\n",
    "print('After OverSampling, the shape of y_train_over: {}'.format(y_train_over.shape))"
   ]
  },
  {
   "cell_type": "code",
   "execution_count": 13,
   "id": "feda3e43",
   "metadata": {},
   "outputs": [
    {
     "data": {
      "image/png": "[encoded data removed]",
      "text/plain": [
       "<Figure size 432x288 with 1 Axes>"
      ]
     },
     "metadata": {
      "needs_background": "light"
     },
     "output_type": "display_data"
    }
   ],
   "source": [
    "#AFTER SMOTE\n",
    "\n",
    "y_train_over_df = y_train_over.to_frame()\n",
    "sns.countplot(data=y_train_over_df, x='stroke');"
   ]
  },
  {
   "cell_type": "markdown",
   "id": "aa25f14a",
   "metadata": {},
   "source": [
    "### 5.3.1  Model 1 - Logistic Regression "
   ]
  },
  {
   "cell_type": "code",
   "execution_count": 14,
   "id": "28f8f422",
   "metadata": {},
   "outputs": [],
   "source": [
    "lr= LogisticRegression()\n",
    "lr.fit(X_train_over,y_train_over) \n",
    "y_pred_lr = lr.predict(X_test) "
   ]
  },
  {
   "cell_type": "code",
   "execution_count": 15,
   "id": "6750b5cb",
   "metadata": {},
   "outputs": [
    {
     "data": {
      "image/png": "[encoded data removed]",
      "text/plain": [
       "<Figure size 576x288 with 1 Axes>"
      ]
     },
     "metadata": {
      "needs_background": "light"
     },
     "output_type": "display_data"
    }
   ],
   "source": [
    "feature_importance = abs(lr.coef_[0])\n",
    "feature_importance = 100.0 * (feature_importance / feature_importance.max())[0:10]\n",
    "sorted_idx = np.argsort(feature_importance)[0:10]\n",
    "pos = np.arange(sorted_idx.shape[0]) + .5\n",
    "\n",
    "featfig = plt.figure(figsize=(8, 4))\n",
    "featax = featfig.add_subplot(1, 1, 1)\n",
    "featax.barh(pos, feature_importance[sorted_idx], align='center')\n",
    "plt.title('Most 10 Relative Feature Importance for Logistic Regression Model', fontsize=13, fontweight='bold')\n",
    "featax.set_yticks(pos)\n",
    "featax.set_yticklabels(np.array(X.columns)[sorted_idx], fontsize=12)\n",
    "\n",
    "plt.tight_layout()\n",
    "plt.show()"
   ]
  },
  {
   "cell_type": "code",
   "execution_count": 16,
   "id": "3dacb37d",
   "metadata": {},
   "outputs": [
    {
     "name": "stdout",
     "output_type": "stream",
     "text": [
      "**************** LOGISTIC REGRESSION CLASSIFIER MODEL RESULTS **************** \n",
      "Accuracy score for testing set:  0.75978\n",
      "F1 score for testing set:  0.8284\n",
      "Recall score for testing set:  0.75978\n",
      "Precision score for testing set:  0.93459\n",
      "[[938 282]\n",
      " [ 25  33]]\n"
     ]
    }
   ],
   "source": [
    "print(\"**************** LOGISTIC REGRESSION CLASSIFIER MODEL RESULTS **************** \")\n",
    "print('Accuracy score for testing set: ',round(accuracy_score(y_test,y_pred_lr),5))\n",
    "print('F1 score for testing set: ',round(f1_score(y_test,y_pred_lr,average='weighted'),5))\n",
    "print('Recall score for testing set: ',round(recall_score(y_test,y_pred_lr,average='weighted'),5))\n",
    "print('Precision score for testing set: ',round(precision_score(y_test,y_pred_lr,average='weighted'),5))\n",
    "cm_lr = confusion_matrix(y_test, y_pred_lr)\n",
    "print(cm_lr)"
   ]
  },
  {
   "cell_type": "markdown",
   "id": "4ec0d8aa",
   "metadata": {},
   "source": [
    "### 5.3.2 Model 2 - KNN Classifier"
   ]
  },
  {
   "cell_type": "code",
   "execution_count": 17,
   "id": "a6407beb",
   "metadata": {},
   "outputs": [
    {
     "data": {
      "image/png": "[encoded data removed]",
      "text/plain": [
       "<Figure size 432x288 with 1 Axes>"
      ]
     },
     "metadata": {
      "needs_background": "light"
     },
     "output_type": "display_data"
    }
   ],
   "source": [
    "neighbors = np.arange(3, 9)\n",
    "train_accuracy = np.empty(len(neighbors))\n",
    "test_accuracy = np.empty(len(neighbors))\n",
    "\n",
    "for i, k in enumerate(neighbors):\n",
    "    knn = KNeighborsClassifier(n_neighbors=k)\n",
    "    knn.fit(X_train,y_train)\n",
    "    train_accuracy[i] = knn.score(X_train_over, y_train_over)\n",
    "    test_accuracy[i] = knn.score(X_test, y_test)\n",
    "    \n",
    "plt.title('k-NN: Varying Number of Neighbors')\n",
    "plt.plot(neighbors, test_accuracy, label = 'Testing Accuracy')\n",
    "plt.plot(neighbors, train_accuracy, label = 'Training Accuracy')\n",
    "plt.legend()\n",
    "plt.xlabel('Number of Neighbors')\n",
    "plt.ylabel('Accuracy')\n",
    "plt.show()"
   ]
  },
  {
   "cell_type": "markdown",
   "id": "01b7c556",
   "metadata": {},
   "source": [
    "From the figure, we need to choose K value which is not too high and have the highest accuracies for testing and training sets. 3 looks good from the figure below according to the accuracies. "
   ]
  },
  {
   "cell_type": "code",
   "execution_count": 18,
   "id": "6c54bf60",
   "metadata": {},
   "outputs": [
    {
     "data": {
      "image/png": "[encoded data removed]",
      "text/plain": [
       "<Figure size 576x216 with 1 Axes>"
      ]
     },
     "metadata": {
      "needs_background": "light"
     },
     "output_type": "display_data"
    }
   ],
   "source": [
    "k_list = list(range(3,9,1))\n",
    "cv_scores = []\n",
    "\n",
    "for k in k_list:\n",
    "    knn = KNeighborsClassifier(n_neighbors=k)\n",
    "    scores = cross_val_score(knn, X_train_over, y_train_over, cv=3, scoring='accuracy')\n",
    "    cv_scores.append(scores.mean())\n",
    "  \n",
    "MSE = [1 - x for x in cv_scores]\n",
    "\n",
    "plt.figure(figsize=(8,3))\n",
    "plt.title('The optimal number of neighbors', fontsize=20, fontweight='bold')\n",
    "plt.xlabel('Number of Neighbors K', fontsize=15)\n",
    "plt.ylabel('Misclassification Error', fontsize=15)\n",
    "sns.set_style(\"whitegrid\")\n",
    "plt.plot(k_list, MSE);\n",
    "\n",
    "plt.show();"
   ]
  },
  {
   "cell_type": "markdown",
   "id": "9913467e",
   "metadata": {},
   "source": [
    "As we can see from the graph - as the K values increases the Error also increases. Again it shows that K = 3 is the optimal \n",
    "K value."
   ]
  },
  {
   "cell_type": "code",
   "execution_count": 19,
   "id": "3d1460d7",
   "metadata": {},
   "outputs": [],
   "source": [
    "knn =KNeighborsClassifier(n_neighbors=3)\n",
    "knn_model = knn.fit(X_train,y_train) \n",
    "y_pred_knn = knn.predict(X_test) "
   ]
  },
  {
   "cell_type": "code",
   "execution_count": 20,
   "id": "197ab080",
   "metadata": {},
   "outputs": [
    {
     "name": "stdout",
     "output_type": "stream",
     "text": [
      "**************** KNN MODEL RESULTS **************** \n",
      "Accuracy score for testing set:  0.94444\n",
      "F1 score for testing set:  0.93081\n",
      "Recall score for testing set:  0.94444\n",
      "Precision score for testing set:  0.92008\n",
      "[[1204   16]\n",
      " [  55    3]]\n"
     ]
    }
   ],
   "source": [
    "print(\"**************** KNN MODEL RESULTS **************** \")\n",
    "print('Accuracy score for testing set: ',round(accuracy_score(y_test,y_pred_knn),5))\n",
    "print('F1 score for testing set: ',round(f1_score(y_test,y_pred_knn,average='weighted'),5))\n",
    "print('Recall score for testing set: ',round(recall_score(y_test,y_pred_knn,average='weighted'),5))\n",
    "print('Precision score for testing set: ',round(precision_score(y_test,y_pred_knn,average='weighted'),5))\n",
    "cm_knn = confusion_matrix(y_test, y_pred_knn)\n",
    "print(cm_knn)"
   ]
  },
  {
   "cell_type": "markdown",
   "id": "b1adb6d9",
   "metadata": {},
   "source": [
    "### 5.4 F1 Score."
   ]
  },
  {
   "cell_type": "code",
   "execution_count": 21,
   "id": "1927ed32",
   "metadata": {},
   "outputs": [
    {
     "data": {
      "image/png": "[encoded data removed]",
      "text/plain": [
       "<Figure size 432x288 with 1 Axes>"
      ]
     },
     "metadata": {},
     "output_type": "display_data"
    }
   ],
   "source": [
    "models = [lr,knn_model]\n",
    "\n",
    "result = []\n",
    "results = pd.DataFrame(columns= [\"Models\",\"F1\"])\n",
    "\n",
    "for model in models:\n",
    "    names = model.__class__.__name__\n",
    "    y_pred = model.predict(X_test)\n",
    "    f1 = cross_val_score(model,X_test,y_test,cv=10,scoring=\"f1_weighted\").mean()  \n",
    "    result = pd.DataFrame([[names, f1*100]], columns= [\"Models\",\"F1\"])\n",
    "    results = results.append(result)\n",
    "    \n",
    "sns.barplot(x= 'F1', y = 'Models', data=results, palette=\"coolwarm\")\n",
    "plt.xlabel('F1 %')\n",
    "plt.title('F1 of the models');\n"
   ]
  },
  {
   "cell_type": "code",
   "execution_count": 22,
   "id": "fadd4c43",
   "metadata": {},
   "outputs": [
    {
     "data": {
      "text/html": [
       "<div>\n",
       "<style scoped>\n",
       "    .dataframe tbody tr th:only-of-type {\n",
       "        vertical-align: middle;\n",
       "    }\n",
       "\n",
       "    .dataframe tbody tr th {\n",
       "        vertical-align: top;\n",
       "    }\n",
       "\n",
       "    .dataframe thead th {\n",
       "        text-align: right;\n",
       "    }\n",
       "</style>\n",
       "<table border=\"1\" class=\"dataframe\">\n",
       "  <thead>\n",
       "    <tr style=\"text-align: right;\">\n",
       "      <th></th>\n",
       "      <th>Models</th>\n",
       "      <th>F1</th>\n",
       "    </tr>\n",
       "  </thead>\n",
       "  <tbody>\n",
       "    <tr>\n",
       "      <th>0</th>\n",
       "      <td>LogisticRegression</td>\n",
       "      <td>93.246803</td>\n",
       "    </tr>\n",
       "    <tr>\n",
       "      <th>0</th>\n",
       "      <td>KNeighborsClassifier</td>\n",
       "      <td>92.950772</td>\n",
       "    </tr>\n",
       "  </tbody>\n",
       "</table>\n",
       "</div>"
      ],
      "text/plain": [
       "                 Models         F1\n",
       "0    LogisticRegression  93.246803\n",
       "0  KNeighborsClassifier  92.950772"
      ]
     },
     "execution_count": 22,
     "metadata": {},
     "output_type": "execute_result"
    }
   ],
   "source": [
    "results.sort_values(by=\"F1\",ascending=False)"
   ]
  },
  {
   "cell_type": "markdown",
   "id": "d493a967",
   "metadata": {},
   "source": [
    "LogisticRegression has performed the best for the given dataset (93.246803%)\n",
    "\n",
    "KNeighborsClassifier has performed the second best for the given dataset (93.241040%)"
   ]
  },
  {
   "cell_type": "markdown",
   "id": "0580e980",
   "metadata": {},
   "source": [
    "## 6. Inference"
   ]
  },
  {
   "cell_type": "markdown",
   "id": "7f9f4657",
   "metadata": {},
   "source": [
    "We have used a parametric model(logistic regression) and non parametric model(KNN) to predict the occurence of stroke. From the F1 score we can conclude that Logistic Regression has performed the best. "
   ]
  }
 ],
 "metadata": {
  "kernelspec": {
   "display_name": "Python 3 (ipykernel)",
   "language": "python",
   "name": "python3"
  },
  "language_info": {
   "codemirror_mode": {
    "name": "ipython",
    "version": 3
   },
   "file_extension": ".py",
   "mimetype": "text/x-python",
   "name": "python",
   "nbconvert_exporter": "python",
   "pygments_lexer": "ipython3",
   "version": "3.9.12"
  }
 },
 "nbformat": 4,
 "nbformat_minor": 5
}
